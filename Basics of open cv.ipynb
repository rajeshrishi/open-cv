{
 "cells": [
  {
   "cell_type": "markdown",
   "metadata": {},
   "source": [
    "<center><h1>BASIC OPERATION ON IMAGES</h1></center>"
   ]
  },
  {
   "cell_type": "markdown",
   "metadata": {},
   "source": [
    "For complete programme open the link 👉🏻 https://github.com/rajeshrishi/open-cv"
   ]
  },
  {
   "cell_type": "markdown",
   "metadata": {},
   "source": [
    "## Drawing on Images"
   ]
  },
  {
   "cell_type": "code",
   "execution_count": 1,
   "metadata": {},
   "outputs": [],
   "source": [
    "import numpy as np\n",
    "import matplotlib.pyplot as plt\n",
    "%matplotlib inline\n",
    "import cv2"
   ]
  },
  {
   "cell_type": "markdown",
   "metadata": {},
   "source": [
    "## Create a blank image which will act as a template."
   ]
  },
  {
   "cell_type": "code",
   "execution_count": 2,
   "metadata": {},
   "outputs": [],
   "source": [
    "image_blank = np.zeros(shape=(512,512,3),dtype=np.int16)\n",
    "# Created a image of 512 X 512 with three colour channels,RGB."
   ]
  },
  {
   "cell_type": "markdown",
   "metadata": {},
   "source": [
    "## Display the black image."
   ]
  },
  {
   "cell_type": "code",
   "execution_count": 3,
   "metadata": {},
   "outputs": [
    {
     "data": {
      "text/plain": [
       "<matplotlib.image.AxesImage at 0x1bd74622fc8>"
      ]
     },
     "execution_count": 3,
     "metadata": {},
     "output_type": "execute_result"
    },
    {
     "data": {
      "image/png": "[encoded data removed]",
      "text/plain": [
       "<Figure size 432x288 with 1 Axes>"
      ]
     },
     "metadata": {
      "needs_background": "light"
     },
     "output_type": "display_data"
    }
   ],
   "source": [
    "plt.imshow(image_blank)"
   ]
  },
  {
   "cell_type": "markdown",
   "metadata": {},
   "source": [
    "Function & Attributes"
   ]
  },
  {
   "cell_type": "markdown",
   "metadata": {},
   "source": [
    "#### The generalised function for drawing shapes on images is:"
   ]
  },
  {
   "cell_type": "markdown",
   "metadata": {},
   "source": [
    "cv2.shape(line, rectangle etc)(image,Pt1,Pt2,color,thickness)\n",
    "Through cv2.shape we can insert any shape like line, rectangle, etc."
   ]
  },
  {
   "cell_type": "markdown",
   "metadata": {},
   "source": [
    "\n",
    "There are some common arguments which are passed in function to draw shapes on images:\n",
    "\n",
    "* Image on which shapes are to be drawn\n",
    "* co-ordinates of the shape to be drawn from Pt1(top left) to Pt2(bottom right)\n",
    "* Color: The color of the shape that is to be drawn. It is passed as a tuple, eg: (255,0,0). \n",
    "* For grayscale, it will be the scale of brightness.\n",
    "* The thickness of the geometrical figure."
   ]
  },
  {
   "cell_type": "markdown",
   "metadata": {},
   "source": [
    "## 1. Straight Line"
   ]
  },
  {
   "cell_type": "markdown",
   "metadata": {},
   "source": [
    "Drawing a straight line across an image requires specifying the points, through which the line will pass."
   ]
  },
  {
   "cell_type": "code",
   "execution_count": 4,
   "metadata": {},
   "outputs": [
    {
     "data": {
      "text/plain": [
       "<matplotlib.image.AxesImage at 0x1bd746d0a88>"
      ]
     },
     "execution_count": 4,
     "metadata": {},
     "output_type": "execute_result"
    },
    {
     "data": {
      "image/png": "[encoded data removed]",
      "text/plain": [
       "<Figure size 432x288 with 1 Axes>"
      ]
     },
     "metadata": {
      "needs_background": "light"
     },
     "output_type": "display_data"
    }
   ],
   "source": [
    "# Draw a diagonal red line with thickness of 50 px\n",
    "line_red = cv2.line(image_blank,(300,300),(500,500),(250,0,0),50 )\n",
    "# 'cv2.line' is used to create a line on the image.\n",
    "# '(300,300)' is the starting axis point of the line and\n",
    "# '(500,500)' is the ending axis point of the line.\n",
    "# '(255,0,0)' is RGB colour channel, here R=255, G=0 and B=0.\n",
    "# '50' is the depth of the line.\n",
    "plt.imshow(line_red) "
   ]
  },
  {
   "cell_type": "code",
   "execution_count": 5,
   "metadata": {},
   "outputs": [
    {
     "data": {
      "text/plain": [
       "<matplotlib.image.AxesImage at 0x1bd7473f708>"
      ]
     },
     "execution_count": 5,
     "metadata": {},
     "output_type": "execute_result"
    },
    {
     "data": {
      "image/png": "[encoded data removed]",
      "text/plain": [
       "<Figure size 432x288 with 1 Axes>"
      ]
     },
     "metadata": {
      "needs_background": "light"
     },
     "output_type": "display_data"
    }
   ],
   "source": [
    "# Draw a diagonal green line with thickness of 25 px\n",
    "line_green = cv2.line(image_blank,(0,0),(511,511),(0,255,0),25)\n",
    "# 'cv2.line' is used to create a line on the image.\n",
    "# '(0,0)' is the starting axis point of the line and\n",
    "# '(511,511)' is the ending axis point of the line.\n",
    "# '(0,255,0)' is RGB colour channel, here R=0, G=255 and B=0.\n",
    "# '25' is the depth of the line.\n",
    "plt.imshow(line_green)"
   ]
  },
  {
   "cell_type": "code",
   "execution_count": 6,
   "metadata": {},
   "outputs": [
    {
     "data": {
      "text/plain": [
       "<matplotlib.image.AxesImage at 0x1bd747a5988>"
      ]
     },
     "execution_count": 6,
     "metadata": {},
     "output_type": "execute_result"
    },
    {
     "data": {
      "image/png": "[encoded data removed]",
      "text/plain": [
       "<Figure size 432x288 with 1 Axes>"
      ]
     },
     "metadata": {
      "needs_background": "light"
     },
     "output_type": "display_data"
    }
   ],
   "source": [
    "# Draw a diagonal blue line with thickness of 10 px\n",
    "line_green = cv2.line(image_blank,(0,0),(511,511),(0,0,255),10)\n",
    "# 'cv2.line' is used to create a line on the image.\n",
    "# '(0,0)' is the starting axis point of the line and\n",
    "# '(511,511)' is the ending axis point of the line.\n",
    "# '(0,0,255)' is RGB colour channel, here R=0, G=0 and B=255.\n",
    "# '25' is the depth of the line.\n",
    "plt.imshow(line_green)"
   ]
  },
  {
   "cell_type": "markdown",
   "metadata": {},
   "source": [
    "## 2. Rectangle"
   ]
  },
  {
   "cell_type": "markdown",
   "metadata": {},
   "source": [
    "#### For a rectangle, we need to specify the top left and the bottom right coordinates."
   ]
  },
  {
   "cell_type": "code",
   "execution_count": 7,
   "metadata": {},
   "outputs": [
    {
     "data": {
      "text/plain": [
       "<matplotlib.image.AxesImage at 0x1bd747ff888>"
      ]
     },
     "execution_count": 7,
     "metadata": {},
     "output_type": "execute_result"
    },
    {
     "data": {
      "image/png": "[encoded data removed]",
      "text/plain": [
       "<Figure size 432x288 with 1 Axes>"
      ]
     },
     "metadata": {
      "needs_background": "light"
     },
     "output_type": "display_data"
    }
   ],
   "source": [
    "#Draw a blue rectangle with a thickness of 25 px\n",
    "\n",
    "rectangle= cv2.rectangle(image_blank,(0,0),(510,128),(0,255,0),25)\n",
    "# 'cv2.rectangle' is used to create rectangle on the image.\n",
    "# '(0,0)' is the starting axis point of the rectangle and\n",
    "# '(518,518)' is the ending axis point of the rectangle.\n",
    "# '(0,255,0)' is RGB colour channel, here R=0, G=0 and B=255.\n",
    "# '25' is the depth of the rectangle boundary.\n",
    "plt.imshow(rectangle)"
   ]
  },
  {
   "cell_type": "markdown",
   "metadata": {},
   "source": [
    "# 3. Circle"
   ]
  },
  {
   "cell_type": "markdown",
   "metadata": {},
   "source": [
    "For a circle, we need to pass its center coordinates and radius value. Let us draw a circle inside the rectangle drawn above"
   ]
  },
  {
   "cell_type": "code",
   "execution_count": 8,
   "metadata": {},
   "outputs": [
    {
     "data": {
      "text/plain": [
       "<matplotlib.image.AxesImage at 0x1bd7486b348>"
      ]
     },
     "execution_count": 8,
     "metadata": {},
     "output_type": "execute_result"
    },
    {
     "data": {
      "image/png": "[encoded data removed]",
      "text/plain": [
       "<Figure size 432x288 with 1 Axes>"
      ]
     },
     "metadata": {
      "needs_background": "light"
     },
     "output_type": "display_data"
    }
   ],
   "source": [
    "circle = cv2.circle(image_blank,(447,0), 250, (255,0,0), 50) \n",
    "# -1 corresponds to a filled circle\n",
    "# 'cv2.line' is used to create a circle on the image.\n",
    "# '(470,0)' is the starting axis point of the circle and\n",
    "# '(250)' is the ending axis point of the circle.\n",
    "# '(255,0,0)' is RGB colour channel, here R=255, G=0 and B=0.\n",
    "# '50' is the depth of the circle boundary.\n",
    "plt.imshow(circle)"
   ]
  },
  {
   "cell_type": "markdown",
   "metadata": {},
   "source": [
    "## Writing on Images"
   ]
  },
  {
   "cell_type": "markdown",
   "metadata": {},
   "source": [
    "Adding text to images is also similar to drawing shapes on them. But you need to specify certain arguments before doing so:\n",
    "\n",
    "* Text to be written\n",
    "* coordinates of the text. The text on an image begins from the bottom left direction.\n",
    "* Font type and scale.\n",
    "* Other attributes like color, thickness and line type. Normally the line type that is used is lineType = cv2.LINE_AA."
   ]
  },
  {
   "cell_type": "code",
   "execution_count": 9,
   "metadata": {},
   "outputs": [
    {
     "data": {
      "text/plain": [
       "<matplotlib.image.AxesImage at 0x1bd748ccfc8>"
      ]
     },
     "execution_count": 9,
     "metadata": {},
     "output_type": "execute_result"
    },
    {
     "data": {
      "image/png": "[encoded data removed]",
      "text/plain": [
       "<Figure size 432x288 with 1 Axes>"
      ]
     },
     "metadata": {
      "needs_background": "light"
     },
     "output_type": "display_data"
    }
   ],
   "source": [
    "font = cv2.FONT_HERSHEY_SIMPLEX\n",
    "text = cv2.putText(circle,'RAJESH',(10,500), font, 4,(255,255,255),2)\n",
    "# 'cv2.putText' is used to create text on the image.\n",
    "# '(10)' is the starting axis point of the text and\n",
    "# '(500)' is the ending axis point of the text.\n",
    "# '(255,255,255)' is RGB colour channel, here R=255, G=255 and B=255.\n",
    "# '2' is the depth of the text size.\n",
    "plt.imshow(text)"
   ]
  },
  {
   "cell_type": "markdown",
   "metadata": {},
   "source": [
    "These were the minor operations that can be done on images using OpenCV. Feel free to experiment with the shapes and text."
   ]
  }
 ],
 "metadata": {
  "kernelspec": {
   "display_name": "Python 3",
   "language": "python",
   "name": "python3"
  },
  "language_info": {
   "codemirror_mode": {
    "name": "ipython",
    "version": 3
   },
   "file_extension": ".py",
   "mimetype": "text/x-python",
   "name": "python",
   "nbconvert_exporter": "python",
   "pygments_lexer": "ipython3",
   "version": "3.7.6"
  }
 },
 "nbformat": 4,
 "nbformat_minor": 2
}
