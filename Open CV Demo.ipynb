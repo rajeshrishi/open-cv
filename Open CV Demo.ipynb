{
 "cells": [
  {
   "cell_type": "markdown",
   "metadata": {},
   "source": [
    "<center><h1>READING, RESIZING AND DISPLAYING OF AN IMAGE IN OPENCV</h1></center>"
   ]
  },
  {
   "cell_type": "markdown",
   "metadata": {},
   "source": [
    "For complete programme open the link 👉🏻 https://github.com/rajeshrishi/open-cv"
   ]
  },
  {
   "cell_type": "markdown",
   "metadata": {},
   "source": [
    "While there are a number of good libraries out there, OpenCV is the most popular and documented library for handling images."
   ]
  },
  {
   "cell_type": "code",
   "execution_count": 1,
   "metadata": {},
   "outputs": [],
   "source": [
    "# functions : cv2.imread(), cv2.imshow() , cv2.imwrite()"
   ]
  },
  {
   "cell_type": "code",
   "execution_count": 2,
   "metadata": {},
   "outputs": [
    {
     "name": "stdout",
     "output_type": "stream",
     "text": [
      "Requirement already satisfied: opencv-python in c:\\users\\rajesh rishi\\anaconda3\\lib\\site-packages (4.3.0.36)\n",
      "Requirement already satisfied: numpy>=1.14.5 in c:\\users\\rajesh rishi\\anaconda3\\lib\\site-packages (from opencv-python) (1.18.1)\n"
     ]
    },
    {
     "name": "stderr",
     "output_type": "stream",
     "text": [
      "WARNING: You are using pip version 20.2.2; however, version 20.2.4 is available.\n",
      "You should consider upgrading via the 'c:\\users\\rajesh rishi\\anaconda3\\python.exe -m pip install --upgrade pip' command.\n"
     ]
    }
   ],
   "source": [
    "# To install\n",
    "!pip install opencv-python"
   ]
  },
  {
   "cell_type": "code",
   "execution_count": 3,
   "metadata": {},
   "outputs": [],
   "source": [
    "# Import Library\n",
    "import cv2\n",
    "import matplotlib.pyplot as plt\n",
    "%matplotlib inline"
   ]
  },
  {
   "cell_type": "code",
   "execution_count": 4,
   "metadata": {},
   "outputs": [
    {
     "data": {
      "text/plain": [
       "'4.3.0'"
      ]
     },
     "execution_count": 4,
     "metadata": {},
     "output_type": "execute_result"
    }
   ],
   "source": [
    "# View version number of cv2\n",
    "cv2.__version__"
   ]
  },
  {
   "cell_type": "code",
   "execution_count": 5,
   "metadata": {},
   "outputs": [],
   "source": [
    "# Read coloured image\n",
    "img=cv2.imread(\"lion.jpg\",1)\n",
    "# 'imread' is the read the image syntax.\n",
    "# '0' is for black and white images and '1' is for coloured images"
   ]
  },
  {
   "attachments": {},
   "cell_type": "markdown",
   "metadata": {},
   "source": [
    "<img src=\"https://raw.githubusercontent.com/rajeshrishi/open-cv/main/download.png\" layout=\"centre\">\n",
    "\n",
    "cv2.IMREAD_COLOR : Loads a color image. Any transparency of image will be neglected. It is the default flag.\n",
    "\n",
    "cv2.IMREAD_GRAYSCALE : Loads image in grayscale mode\n",
    "\n",
    "cv2.IMREAD_UNCHANGED : Loads image without changing as such including alpha channel.\n",
    "\n",
    "Note Instead of these three flags, you can simply pass integers 1, 0 or -1 respectively. "
   ]
  },
  {
   "attachments": {},
   "cell_type": "markdown",
   "metadata": {},
   "source": [
    "<center><l1>lion.jpg</l1></center>\n",
    "\n",
    "<img src=\"https://raw.githubusercontent.com/rajeshrishi/open-cv/main/lion.jpg\" layout=\"centre\">\n",
    "This is how we sees the image."
   ]
  },
  {
   "cell_type": "code",
   "execution_count": 6,
   "metadata": {},
   "outputs": [
    {
     "data": {
      "text/plain": [
       "array([[[244, 243, 245],\n",
       "        [244, 243, 245],\n",
       "        [244, 243, 245],\n",
       "        ...,\n",
       "        [245, 247, 248],\n",
       "        [245, 247, 248],\n",
       "        [244, 246, 247]],\n",
       "\n",
       "       [[244, 243, 245],\n",
       "        [244, 243, 245],\n",
       "        [244, 243, 245],\n",
       "        ...,\n",
       "        [245, 247, 248],\n",
       "        [245, 247, 248],\n",
       "        [244, 246, 247]],\n",
       "\n",
       "       [[244, 243, 245],\n",
       "        [244, 243, 245],\n",
       "        [244, 243, 245],\n",
       "        ...,\n",
       "        [243, 246, 250],\n",
       "        [243, 246, 250],\n",
       "        [244, 245, 249]],\n",
       "\n",
       "       ...,\n",
       "\n",
       "       [[ 72, 136, 170],\n",
       "        [ 69, 136, 169],\n",
       "        [ 71, 136, 167],\n",
       "        ...,\n",
       "        [ 15,  69, 132],\n",
       "        [ 14,  68, 133],\n",
       "        [ 16,  68, 138]],\n",
       "\n",
       "       [[ 73, 137, 167],\n",
       "        [ 72, 138, 167],\n",
       "        [ 72, 136, 166],\n",
       "        ...,\n",
       "        [ 16,  70, 131],\n",
       "        [ 17,  68, 131],\n",
       "        [ 20,  69, 137]],\n",
       "\n",
       "       [[ 74, 137, 165],\n",
       "        [ 72, 138, 163],\n",
       "        [ 74, 138, 163],\n",
       "        ...,\n",
       "        [ 18,  70, 130],\n",
       "        [ 18,  67, 129],\n",
       "        [ 23,  71, 137]]], dtype=uint8)"
      ]
     },
     "execution_count": 6,
     "metadata": {},
     "output_type": "execute_result"
    }
   ],
   "source": [
    "img\n",
    "# This is how machine sees a coloured image."
   ]
  },
  {
   "cell_type": "code",
   "execution_count": 7,
   "metadata": {},
   "outputs": [],
   "source": [
    "# Read Black and white image (grey scale)\n",
    "img_b=cv2.imread(\"lion.jpg\",0)"
   ]
  },
  {
   "cell_type": "code",
   "execution_count": 8,
   "metadata": {},
   "outputs": [
    {
     "data": {
      "text/plain": [
       "array([[244, 244, 244, ..., 247, 247, 246],\n",
       "       [244, 244, 244, ..., 247, 247, 246],\n",
       "       [244, 244, 244, ..., 247, 247, 246],\n",
       "       ...,\n",
       "       [139, 138, 138, ...,  82,  81,  83],\n",
       "       [139, 139, 138, ...,  82,  81,  84],\n",
       "       [138, 138, 138, ...,  82,  80,  85]], dtype=uint8)"
      ]
     },
     "execution_count": 8,
     "metadata": {},
     "output_type": "execute_result"
    }
   ],
   "source": [
    "img_b\n",
    "# This is how machine sees a black and white image."
   ]
  },
  {
   "cell_type": "code",
   "execution_count": 9,
   "metadata": {},
   "outputs": [],
   "source": [
    "# Checking the shape of the elements"
   ]
  },
  {
   "cell_type": "code",
   "execution_count": 10,
   "metadata": {},
   "outputs": [
    {
     "name": "stdout",
     "output_type": "stream",
     "text": [
      "(743, 1121, 3)\n"
     ]
    }
   ],
   "source": [
    "print(img.shape)\n",
    "# here '3' means colour channel 'RGB'"
   ]
  },
  {
   "cell_type": "code",
   "execution_count": 11,
   "metadata": {},
   "outputs": [
    {
     "name": "stdout",
     "output_type": "stream",
     "text": [
      "(743, 1121)\n"
     ]
    }
   ],
   "source": [
    "print(img_b.shape)"
   ]
  },
  {
   "cell_type": "markdown",
   "metadata": {},
   "source": [
    "The matrix consist of 743 rows and 1121 columns "
   ]
  },
  {
   "cell_type": "code",
   "execution_count": 12,
   "metadata": {},
   "outputs": [],
   "source": [
    "# Display the image\n",
    "cv2.imshow('lion', img)\n",
    "# 'cv2.imshow' is the show the image syntax.\n",
    "# 'lion'is the name of the window that is displayed when image is shown in.\n",
    "cv2.waitKey(2000)\n",
    "# 'cv2.waitKey' is used to wait for sometime.\n",
    "cv2.destroyAllWindows()\n",
    "# 'cv2.destroyAllWindow' is used to destroy the window after seeing."
   ]
  },
  {
   "attachments": {},
   "cell_type": "markdown",
   "metadata": {},
   "source": [
    "Output\n",
    "\n",
    "<img src=\"https://raw.githubusercontent.com/rajeshrishi/open-cv/main/Output.jpg\" layout=\"centre\">\n"
   ]
  },
  {
   "cell_type": "code",
   "execution_count": 13,
   "metadata": {},
   "outputs": [],
   "source": [
    "# Resizing the image\n",
    "resized_image=cv2.resize(img,(650,500))"
   ]
  },
  {
   "cell_type": "code",
   "execution_count": 14,
   "metadata": {},
   "outputs": [],
   "source": [
    "# Output of resized image\n",
    "cv2.imshow('lion',resized_image)\n",
    "cv2.waitKey(0)\n",
    "cv2.destroyAllWindows()"
   ]
  },
  {
   "attachments": {},
   "cell_type": "markdown",
   "metadata": {},
   "source": [
    "Output\n",
    "\n",
    "<img src=\"https://raw.githubusercontent.com/rajeshrishi/open-cv/main/output%20resize.jpg\" layout=\"centre\">\n",
    "\n"
   ]
  }
 ],
 "metadata": {
  "kernelspec": {
   "display_name": "Python 3",
   "language": "python",
   "name": "python3"
  },
  "language_info": {
   "codemirror_mode": {
    "name": "ipython",
    "version": 3
   },
   "file_extension": ".py",
   "mimetype": "text/x-python",
   "name": "python",
   "nbconvert_exporter": "python",
   "pygments_lexer": "ipython3",
   "version": "3.7.6"
  }
 },
 "nbformat": 4,
 "nbformat_minor": 4
}
